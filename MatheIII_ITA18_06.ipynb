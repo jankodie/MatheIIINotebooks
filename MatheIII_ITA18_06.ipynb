{
 "cells": [
  {
   "cell_type": "markdown",
   "metadata": {},
   "source": [
    "# 1.8 Differentiation nach Parametern (Kettenregel)"
   ]
  },
  {
   "cell_type": "code",
   "execution_count": null,
   "metadata": {},
   "outputs": [],
   "source": [
    "x, y = var('x,y')\n",
    "f(x,y) = (x - y)^2\n",
    "F = plot3d(f, (x,-3,3), (y,-3,3), opacity=0.6)\n",
    "t = var('t')\n",
    "L = parametric_plot3d((2 * sin(t), 2 * cos(t), 0), (0,2*pi), color=\"blue\", thickness = 5)\n",
    "Lf = parametric_plot3d((2 * sin(t), 2 * cos(t), f(2*sin(t), 2*cos(t))), (0,2*pi), color=\"red\", thickness = 5)\n",
    "show(F + L + Lf)"
   ]
  }
 ],
 "metadata": {
  "kernelspec": {
   "display_name": "SageMath 8.8",
   "language": "sage",
   "name": "sagemath"
  },
  "language_info": {
   "codemirror_mode": {
    "name": "ipython",
    "version": 2
   },
   "file_extension": ".py",
   "mimetype": "text/x-python",
   "name": "python",
   "nbconvert_exporter": "python",
   "pygments_lexer": "ipython2",
   "version": "2.7.15"
  }
 },
 "nbformat": 4,
 "nbformat_minor": 2
}
