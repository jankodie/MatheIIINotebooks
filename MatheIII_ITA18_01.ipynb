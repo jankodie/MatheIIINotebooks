{
 "cells": [
  {
   "cell_type": "code",
   "execution_count": null,
   "metadata": {},
   "outputs": [],
   "source": [
    "x(k) = cos(k*pi*0.1)/k\n",
    "y(k) = sin(k*pi*0.1)/k\n",
    "coord = [(x(k), y(k)) for k in [1,2,..,100]]\n",
    "show(points(coord, rgbcolor=(0.2,0.6, 0.5), pointsize=5))"
   ]
  },
  {
   "cell_type": "markdown",
   "metadata": {},
   "source": [
    "# 1.2. Mehrstelliger Funktionen"
   ]
  },
  {
   "cell_type": "markdown",
   "metadata": {},
   "source": [
    "## Graphische Darstellungsformen mehrstelliger Funktionen"
   ]
  },
  {
   "cell_type": "markdown",
   "metadata": {},
   "source": [
    "### Graph mehrstelliger Funktionen - $z = f(x,y)$"
   ]
  },
  {
   "cell_type": "code",
   "execution_count": null,
   "metadata": {},
   "outputs": [],
   "source": [
    "x, y = var('x,y')\n",
    "plot3d(x^2 + y^2, (x,-4,4), (y,-4,4))"
   ]
  },
  {
   "cell_type": "markdown",
   "metadata": {},
   "source": [
    "### Höhenlinien (Contour Plot) - $f(x,y) = c$ für Höhe $c$"
   ]
  },
  {
   "cell_type": "code",
   "execution_count": null,
   "metadata": {},
   "outputs": [],
   "source": [
    "f = lambda x,y: x^2 + y^2\n",
    "contour_plot(f, (-10, 10), (-10, 10), fill = false, contours = 10)"
   ]
  },
  {
   "cell_type": "markdown",
   "metadata": {},
   "source": [
    "### Schnittkurvendiagramme - $z = f(x, y = c) = \\tilde{f}(x)$"
   ]
  },
  {
   "cell_type": "markdown",
   "metadata": {},
   "source": [
    "Beispiel: Zustandsgleichung für das ideale Gas\n",
    "\\begin{eqnarray}\n",
    "    p V &=& n R T \\\\\n",
    "    p &=& n R \\frac{T}{V}\n",
    "\\end{eqnarray}\n",
    "Temperatur konstant halten $\\to$ Isotherme"
   ]
  },
  {
   "cell_type": "code",
   "execution_count": null,
   "metadata": {},
   "outputs": [],
   "source": [
    "V,T  = var('V,T')\n",
    "R = 8.314462618 # J / (m o l ⋅ K)\n",
    "n = 5 # mol\n",
    "plot3d(n * R * T/V, (V,0.1,1), (T,273,1073))"
   ]
  },
  {
   "cell_type": "code",
   "execution_count": null,
   "metadata": {},
   "outputs": [],
   "source": [
    "var(\"p V\")\n",
    "R = 8.314462618 # J / (m o l ⋅ K)\n",
    "n = 5 # mol\n",
    "contour_plot((p * V) / (n * R), (V,0.1,100), (p, 0.1, 50), fill=false, cmap='hsv', labels=True, contours = 15)"
   ]
  }
 ],
 "metadata": {
  "kernelspec": {
   "display_name": "SageMath 8.8",
   "language": "sage",
   "name": "sagemath"
  },
  "language_info": {
   "codemirror_mode": {
    "name": "ipython",
    "version": 2
   },
   "file_extension": ".py",
   "mimetype": "text/x-python",
   "name": "python",
   "nbconvert_exporter": "python",
   "pygments_lexer": "ipython2",
   "version": "2.7.15"
  }
 },
 "nbformat": 4,
 "nbformat_minor": 2
}
