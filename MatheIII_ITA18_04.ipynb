{
 "cells": [
  {
   "cell_type": "markdown",
   "metadata": {},
   "source": [
    "# 1.6 Totale Differenzierbarkeit"
   ]
  },
  {
   "cell_type": "markdown",
   "metadata": {},
   "source": [
    "Für die Funktion\n",
    "$$\n",
    "f(x,y) = x^2 + y^2\n",
    "$$\n",
    "im Punkt $f(1,0) = 1$"
   ]
  },
  {
   "cell_type": "code",
   "execution_count": null,
   "metadata": {},
   "outputs": [],
   "source": [
    "x, y = var('x,y')\n",
    "F = plot3d(x^2 + y^2, (x,-3,3), (y,-2,2), plot_points = 200)\n",
    "TE = plot3d(2*(x - 1) + 1, (x,-3,3), (y,-2,2), color=\"lightblue\", opacity=0.8, plot_points = 200)\n",
    "F + TE"
   ]
  }
 ],
 "metadata": {
  "kernelspec": {
   "display_name": "SageMath 8.8",
   "language": "sage",
   "name": "sagemath"
  },
  "language_info": {
   "codemirror_mode": {
    "name": "ipython",
    "version": 2
   },
   "file_extension": ".py",
   "mimetype": "text/x-python",
   "name": "python",
   "nbconvert_exporter": "python",
   "pygments_lexer": "ipython2",
   "version": "2.7.15"
  }
 },
 "nbformat": 4,
 "nbformat_minor": 2
}
