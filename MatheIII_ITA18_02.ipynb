{
 "cells": [
  {
   "cell_type": "markdown",
   "metadata": {},
   "source": [
    "# 1.3 Stetigkeit"
   ]
  },
  {
   "cell_type": "markdown",
   "metadata": {},
   "source": [
    "1.) Beispielfunktion \n",
    "$$ f(x_1,x_2) = \\begin{cases}\n",
    "    \\frac{2 x_1 x_2}{x_1^2 + x_2^2}     & \\text{ falls } (x_1,x_2) \\neq (0,0) \\\\\n",
    "    \\;\\;0  & \\text{ falls } x_1 = x_2 = 0\n",
    "\\end{cases}$$"
   ]
  },
  {
   "cell_type": "code",
   "execution_count": null,
   "metadata": {},
   "outputs": [],
   "source": [
    "x, y = var('x,y')\n",
    "#plot3d(2 * x * y / (x^2 + y^2), (x,0,2), (y,0,2), plot_points = 200)\n",
    "plot3d(2 * x * y / (x^2 + y^2), (x,-2,2), (y,-2,2), plot_points = 400)"
   ]
  },
  {
   "cell_type": "markdown",
   "metadata": {},
   "source": [
    "2.) Beispielfunktion \n",
    "$$\n",
    "f(x_1,x_2) = \\begin{cases}\n",
    "    x_1 * \\sin(\\frac{1}{x_1^2 + x_2^2})     & \\text{ falls } (x_1,x_2) \\neq (0,0) \\\\\n",
    "    \\;\\;0  & \\text{ falls } x_1 = x_2 = 0\n",
    "\\end{cases}\n",
    "$$"
   ]
  },
  {
   "cell_type": "code",
   "execution_count": null,
   "metadata": {},
   "outputs": [],
   "source": [
    "x, y = var('x,y')\n",
    "#plot3d(x * sin(1/(x^2 + y^2)), (x,0.1,1), (y,0.1,1),plot_points = 200)\n",
    "plot3d(x * sin(1/(x^2 + y^2)), (x,-1,1), (y,-1,1),plot_points = 400)"
   ]
  }
 ],
 "metadata": {
  "kernelspec": {
   "display_name": "SageMath 8.8",
   "language": "sage",
   "name": "sagemath"
  },
  "language_info": {
   "codemirror_mode": {
    "name": "ipython",
    "version": 2
   },
   "file_extension": ".py",
   "mimetype": "text/x-python",
   "name": "python",
   "nbconvert_exporter": "python",
   "pygments_lexer": "ipython2",
   "version": "2.7.15"
  }
 },
 "nbformat": 4,
 "nbformat_minor": 2
}
