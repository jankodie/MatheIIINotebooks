{
 "cells": [
  {
   "cell_type": "markdown",
   "metadata": {},
   "source": [
    "# 1.10 Lokale Extrema"
   ]
  },
  {
   "cell_type": "markdown",
   "metadata": {},
   "source": [
    "## Beispiel für einen Sattelpunkt\n",
    "$f(x,y) = xy$ besitzt im Ursprung $P = (0,0)$ einen __*Sattelpunkt*__. Die zugeörige Tangentialebene verläuft nicht nur parallel zur $x-y-$Ebene, sie ist die $x-y-$Ebene. "
   ]
  },
  {
   "cell_type": "code",
   "execution_count": null,
   "metadata": {},
   "outputs": [],
   "source": [
    "x, y = var('x,y')\n",
    "F = plot3d(x * y, (x,-1,1), (y,-1,1), plot_points = 200)\n",
    "TE = plot3d(0, (x,-1,1), (y,-1,1), color=\"lightblue\", opacity=0.8, plot_points = 200)\n",
    "F + TE"
   ]
  },
  {
   "cell_type": "markdown",
   "metadata": {},
   "source": [
    "## Beispiele für lokale Extrema"
   ]
  },
  {
   "cell_type": "markdown",
   "metadata": {},
   "source": [
    "1. Bsp) Funktion $f(x,y) = (x^2 + y^2)^2 - 2(x^2-y^2)$"
   ]
  },
  {
   "cell_type": "code",
   "execution_count": null,
   "metadata": {},
   "outputs": [],
   "source": [
    "plot3d((x^2 + y^2)^2 - 2*(x^2-y^2), (x,-1.5,1.5), (y,-1.5,1.5), plot_points = 200)"
   ]
  },
  {
   "cell_type": "code",
   "execution_count": null,
   "metadata": {},
   "outputs": [],
   "source": [
    "contour_plot((x^2 + y^2)^2 - 2*(x^2-y^2), (x,-1.5,1.5), (y,-1.5,1.5), fill=false, cmap='hsv', labels=True, contours = 5)"
   ]
  }
 ],
 "metadata": {
  "kernelspec": {
   "display_name": "SageMath 8.8",
   "language": "sage",
   "name": "sagemath"
  },
  "language_info": {
   "codemirror_mode": {
    "name": "ipython",
    "version": 2
   },
   "file_extension": ".py",
   "mimetype": "text/x-python",
   "name": "python",
   "nbconvert_exporter": "python",
   "pygments_lexer": "ipython2",
   "version": "2.7.15"
  }
 },
 "nbformat": 4,
 "nbformat_minor": 2
}
