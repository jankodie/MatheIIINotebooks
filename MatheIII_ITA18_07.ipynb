{
 "cells": [
  {
   "cell_type": "markdown",
   "metadata": {},
   "source": [
    "# 1.9 Implizite Differentiation"
   ]
  },
  {
   "cell_type": "markdown",
   "metadata": {},
   "source": [
    "Beispiel 1:\n",
    "Wie lautet die Gleichung der Tangent am Punkt $P=(x_0,y_0)$ mit $x_0<0,y_0=3$ der Ellipse\n",
    "$$\n",
    "\\frac{x^2}{36}+\\frac{y^2}{16}=1\n",
    "$$\n"
   ]
  },
  {
   "cell_type": "code",
   "execution_count": null,
   "metadata": {},
   "outputs": [],
   "source": [
    "var('x,y')\n",
    "implicit_plot(x^2/36+y^2/18==1, (x,-6.2,6.2), (y,-4.3,4.4))"
   ]
  },
  {
   "cell_type": "markdown",
   "metadata": {},
   "source": [
    "Beispiel 2:\n",
    "Welche Steigung besitzt die Kurve\n",
    "$$\n",
    "(x^2+y^2)^2-2*x*(x^2+y^2)-y^2=0\n",
    "$$\n",
    "im Punkt $P=(0,1)$"
   ]
  },
  {
   "cell_type": "code",
   "execution_count": null,
   "metadata": {},
   "outputs": [],
   "source": [
    "var('x,y')\n",
    "implicit_plot((x^2+y^2)^2-2*x*(x^2+y^2)-y^2==0, (x,-0.5,2), (y,-1.5,1.5))"
   ]
  }
 ],
 "metadata": {
  "kernelspec": {
   "display_name": "SageMath 8.8",
   "language": "sage",
   "name": "sagemath"
  },
  "language_info": {
   "codemirror_mode": {
    "name": "ipython",
    "version": 2
   },
   "file_extension": ".py",
   "mimetype": "text/x-python",
   "name": "python",
   "nbconvert_exporter": "python",
   "pygments_lexer": "ipython2",
   "version": "2.7.15"
  }
 },
 "nbformat": 4,
 "nbformat_minor": 2
}
